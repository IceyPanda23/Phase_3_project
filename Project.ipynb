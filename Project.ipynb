{
 "cells": [
  {
   "cell_type": "markdown",
   "metadata": {},
   "source": [
    "## Business Understanding:"
   ]
  },
  {
   "cell_type": "markdown",
   "metadata": {},
   "source": [
    "SyriaTel, a telecommunications company, faces a significant challenge with customer churn, leading to financial losses. To tackle this, they initiate a predictive analytics project aimed at identifying customers likely to churn soon. By analyzing historical customer data like demographics, usage patterns, and service interactions, they develop a binary classifier model. This model, trained on various machine learning algorithms, predicts churn likelihood in real-time, enabling SyriaTel to proactively target at-risk customers with personalized retention strategies. Ultimately, this predictive approach helps SyriaTel optimize marketing efforts, improve customer retention, and boost overall profitability."
   ]
  },
  {
   "cell_type": "markdown",
   "metadata": {},
   "source": [
    "## Data Understanding:"
   ]
  },
  {
   "cell_type": "markdown",
   "metadata": {},
   "source": [
    "In preparing to use logistic regression for churn prediction at SyriaTel, the initial step involves collecting historical customer data encompassing demographics, usage patterns, subscription details, and service interactions. Subsequently, a thorough exploration of the dataset is conducted to understand its structure, identify relevant features, and preprocess the data to handle missing values and categorical variables. Following data splitting into training and testing sets, logistic regression is trained on the training data and evaluated using metrics like accuracy and F1 score. Through model optimization, hyperparameters are fine-tuned to enhance predictive performance, ensuring the model's robustness and interpretability. Ultimately, this approach enables SyriaTel to gain insights into customer churn drivers and implement targeted retention strategies effectively."
   ]
  },
  {
   "cell_type": "markdown",
   "metadata": {},
   "source": [
    "## Exploratory Data Analysis:"
   ]
  },
  {
   "cell_type": "markdown",
   "metadata": {},
   "source": [
    "Importing the necessary libraries below"
   ]
  },
  {
   "cell_type": "code",
   "execution_count": 92,
   "metadata": {},
   "outputs": [],
   "source": [
    "import pandas as pd  # For data manipulation and analysis\n",
    "import numpy as np  # For numerical operations\n",
    "import matplotlib.pyplot as plt  # For data visualization\n",
    "import seaborn as sns  # For enhanced data visualization\n",
    "from sklearn.model_selection import train_test_split  # For splitting data into train and test sets\n",
    "from sklearn.preprocessing import StandardScaler  # For standardizing numerical features\n",
    "from sklearn.linear_model import LogisticRegression  # For logistic regression model\n",
    "from sklearn.metrics import accuracy_score, confusion_matrix, classification_report,roc_curve, auc, make_scorer,f1_score  # For model evaluation metrics\n",
    "from sklearn.dummy import DummyClassifier # For creating dummy models and comparing it to our own\n",
    "from sklearn.model_selection import GridSearchCV  # For hyperparameter tuning\n",
    "import warnings\n",
    "warnings.filterwarnings(\"ignore\") # For filtering out annoying warnings lol\n",
    "from imblearn.over_sampling import SMOTE # For fixin class imbalances\n",
    "from sklearn.preprocessing import LabelEncoder # For the boolean values in the dataset"
   ]
  },
  {
   "cell_type": "markdown",
   "metadata": {},
   "source": [
    "Read the csv file and looked at the columns to understand which columns are being dealt with"
   ]
  },
  {
   "cell_type": "code",
   "execution_count": 93,
   "metadata": {},
   "outputs": [
    {
     "name": "stdout",
     "output_type": "stream",
     "text": [
      "<class 'pandas.core.frame.DataFrame'>\n",
      "RangeIndex: 3333 entries, 0 to 3332\n",
      "Data columns (total 21 columns):\n",
      " #   Column                  Non-Null Count  Dtype  \n",
      "---  ------                  --------------  -----  \n",
      " 0   state                   3333 non-null   object \n",
      " 1   account length          3333 non-null   int64  \n",
      " 2   area code               3333 non-null   int64  \n",
      " 3   phone number            3333 non-null   object \n",
      " 4   international plan      3333 non-null   object \n",
      " 5   voice mail plan         3333 non-null   object \n",
      " 6   number vmail messages   3333 non-null   int64  \n",
      " 7   total day minutes       3333 non-null   float64\n",
      " 8   total day calls         3333 non-null   int64  \n",
      " 9   total day charge        3333 non-null   float64\n",
      " 10  total eve minutes       3333 non-null   float64\n",
      " 11  total eve calls         3333 non-null   int64  \n",
      " 12  total eve charge        3333 non-null   float64\n",
      " 13  total night minutes     3333 non-null   float64\n",
      " 14  total night calls       3333 non-null   int64  \n",
      " 15  total night charge      3333 non-null   float64\n",
      " 16  total intl minutes      3333 non-null   float64\n",
      " 17  total intl calls        3333 non-null   int64  \n",
      " 18  total intl charge       3333 non-null   float64\n",
      " 19  customer service calls  3333 non-null   int64  \n",
      " 20  churn                   3333 non-null   bool   \n",
      "dtypes: bool(1), float64(8), int64(8), object(4)\n",
      "memory usage: 524.2+ KB\n"
     ]
    }
   ],
   "source": [
    "df = pd.read_csv('dataset\\Customer Churn.csv')\n",
    "df.info()"
   ]
  },
  {
   "cell_type": "markdown",
   "metadata": {},
   "source": [
    "The dataset has no null values but has a mixture of string and float datatypes so we need to convert the object data types to float for the regression model later on."
   ]
  },
  {
   "cell_type": "code",
   "execution_count": 94,
   "metadata": {},
   "outputs": [
    {
     "data": {
      "text/html": [
       "<div>\n",
       "<style scoped>\n",
       "    .dataframe tbody tr th:only-of-type {\n",
       "        vertical-align: middle;\n",
       "    }\n",
       "\n",
       "    .dataframe tbody tr th {\n",
       "        vertical-align: top;\n",
       "    }\n",
       "\n",
       "    .dataframe thead th {\n",
       "        text-align: right;\n",
       "    }\n",
       "</style>\n",
       "<table border=\"1\" class=\"dataframe\">\n",
       "  <thead>\n",
       "    <tr style=\"text-align: right;\">\n",
       "      <th></th>\n",
       "      <th>state</th>\n",
       "      <th>account length</th>\n",
       "      <th>area code</th>\n",
       "      <th>phone number</th>\n",
       "      <th>international plan</th>\n",
       "      <th>voice mail plan</th>\n",
       "      <th>number vmail messages</th>\n",
       "      <th>total day minutes</th>\n",
       "      <th>total day calls</th>\n",
       "      <th>total day charge</th>\n",
       "      <th>...</th>\n",
       "      <th>total eve calls</th>\n",
       "      <th>total eve charge</th>\n",
       "      <th>total night minutes</th>\n",
       "      <th>total night calls</th>\n",
       "      <th>total night charge</th>\n",
       "      <th>total intl minutes</th>\n",
       "      <th>total intl calls</th>\n",
       "      <th>total intl charge</th>\n",
       "      <th>customer service calls</th>\n",
       "      <th>churn</th>\n",
       "    </tr>\n",
       "  </thead>\n",
       "  <tbody>\n",
       "    <tr>\n",
       "      <th>0</th>\n",
       "      <td>KS</td>\n",
       "      <td>128</td>\n",
       "      <td>415</td>\n",
       "      <td>382-4657</td>\n",
       "      <td>no</td>\n",
       "      <td>yes</td>\n",
       "      <td>25</td>\n",
       "      <td>265.1</td>\n",
       "      <td>110</td>\n",
       "      <td>45.07</td>\n",
       "      <td>...</td>\n",
       "      <td>99</td>\n",
       "      <td>16.78</td>\n",
       "      <td>244.7</td>\n",
       "      <td>91</td>\n",
       "      <td>11.01</td>\n",
       "      <td>10.0</td>\n",
       "      <td>3</td>\n",
       "      <td>2.70</td>\n",
       "      <td>1</td>\n",
       "      <td>False</td>\n",
       "    </tr>\n",
       "    <tr>\n",
       "      <th>1</th>\n",
       "      <td>OH</td>\n",
       "      <td>107</td>\n",
       "      <td>415</td>\n",
       "      <td>371-7191</td>\n",
       "      <td>no</td>\n",
       "      <td>yes</td>\n",
       "      <td>26</td>\n",
       "      <td>161.6</td>\n",
       "      <td>123</td>\n",
       "      <td>27.47</td>\n",
       "      <td>...</td>\n",
       "      <td>103</td>\n",
       "      <td>16.62</td>\n",
       "      <td>254.4</td>\n",
       "      <td>103</td>\n",
       "      <td>11.45</td>\n",
       "      <td>13.7</td>\n",
       "      <td>3</td>\n",
       "      <td>3.70</td>\n",
       "      <td>1</td>\n",
       "      <td>False</td>\n",
       "    </tr>\n",
       "    <tr>\n",
       "      <th>2</th>\n",
       "      <td>NJ</td>\n",
       "      <td>137</td>\n",
       "      <td>415</td>\n",
       "      <td>358-1921</td>\n",
       "      <td>no</td>\n",
       "      <td>no</td>\n",
       "      <td>0</td>\n",
       "      <td>243.4</td>\n",
       "      <td>114</td>\n",
       "      <td>41.38</td>\n",
       "      <td>...</td>\n",
       "      <td>110</td>\n",
       "      <td>10.30</td>\n",
       "      <td>162.6</td>\n",
       "      <td>104</td>\n",
       "      <td>7.32</td>\n",
       "      <td>12.2</td>\n",
       "      <td>5</td>\n",
       "      <td>3.29</td>\n",
       "      <td>0</td>\n",
       "      <td>False</td>\n",
       "    </tr>\n",
       "    <tr>\n",
       "      <th>3</th>\n",
       "      <td>OH</td>\n",
       "      <td>84</td>\n",
       "      <td>408</td>\n",
       "      <td>375-9999</td>\n",
       "      <td>yes</td>\n",
       "      <td>no</td>\n",
       "      <td>0</td>\n",
       "      <td>299.4</td>\n",
       "      <td>71</td>\n",
       "      <td>50.90</td>\n",
       "      <td>...</td>\n",
       "      <td>88</td>\n",
       "      <td>5.26</td>\n",
       "      <td>196.9</td>\n",
       "      <td>89</td>\n",
       "      <td>8.86</td>\n",
       "      <td>6.6</td>\n",
       "      <td>7</td>\n",
       "      <td>1.78</td>\n",
       "      <td>2</td>\n",
       "      <td>False</td>\n",
       "    </tr>\n",
       "    <tr>\n",
       "      <th>4</th>\n",
       "      <td>OK</td>\n",
       "      <td>75</td>\n",
       "      <td>415</td>\n",
       "      <td>330-6626</td>\n",
       "      <td>yes</td>\n",
       "      <td>no</td>\n",
       "      <td>0</td>\n",
       "      <td>166.7</td>\n",
       "      <td>113</td>\n",
       "      <td>28.34</td>\n",
       "      <td>...</td>\n",
       "      <td>122</td>\n",
       "      <td>12.61</td>\n",
       "      <td>186.9</td>\n",
       "      <td>121</td>\n",
       "      <td>8.41</td>\n",
       "      <td>10.1</td>\n",
       "      <td>3</td>\n",
       "      <td>2.73</td>\n",
       "      <td>3</td>\n",
       "      <td>False</td>\n",
       "    </tr>\n",
       "  </tbody>\n",
       "</table>\n",
       "<p>5 rows × 21 columns</p>\n",
       "</div>"
      ],
      "text/plain": [
       "  state  account length  area code phone number international plan  \\\n",
       "0    KS             128        415     382-4657                 no   \n",
       "1    OH             107        415     371-7191                 no   \n",
       "2    NJ             137        415     358-1921                 no   \n",
       "3    OH              84        408     375-9999                yes   \n",
       "4    OK              75        415     330-6626                yes   \n",
       "\n",
       "  voice mail plan  number vmail messages  total day minutes  total day calls  \\\n",
       "0             yes                     25              265.1              110   \n",
       "1             yes                     26              161.6              123   \n",
       "2              no                      0              243.4              114   \n",
       "3              no                      0              299.4               71   \n",
       "4              no                      0              166.7              113   \n",
       "\n",
       "   total day charge  ...  total eve calls  total eve charge  \\\n",
       "0             45.07  ...               99             16.78   \n",
       "1             27.47  ...              103             16.62   \n",
       "2             41.38  ...              110             10.30   \n",
       "3             50.90  ...               88              5.26   \n",
       "4             28.34  ...              122             12.61   \n",
       "\n",
       "   total night minutes  total night calls  total night charge  \\\n",
       "0                244.7                 91               11.01   \n",
       "1                254.4                103               11.45   \n",
       "2                162.6                104                7.32   \n",
       "3                196.9                 89                8.86   \n",
       "4                186.9                121                8.41   \n",
       "\n",
       "   total intl minutes  total intl calls  total intl charge  \\\n",
       "0                10.0                 3               2.70   \n",
       "1                13.7                 3               3.70   \n",
       "2                12.2                 5               3.29   \n",
       "3                 6.6                 7               1.78   \n",
       "4                10.1                 3               2.73   \n",
       "\n",
       "   customer service calls  churn  \n",
       "0                       1  False  \n",
       "1                       1  False  \n",
       "2                       0  False  \n",
       "3                       2  False  \n",
       "4                       3  False  \n",
       "\n",
       "[5 rows x 21 columns]"
      ]
     },
     "execution_count": 94,
     "metadata": {},
     "output_type": "execute_result"
    }
   ],
   "source": [
    "df.head()"
   ]
  },
  {
   "cell_type": "markdown",
   "metadata": {},
   "source": [
    "Looking at all the columns that have an object data type to see how it can be converted and if theres a need to do so"
   ]
  },
  {
   "cell_type": "code",
   "execution_count": 95,
   "metadata": {},
   "outputs": [
    {
     "data": {
      "text/html": [
       "<div>\n",
       "<style scoped>\n",
       "    .dataframe tbody tr th:only-of-type {\n",
       "        vertical-align: middle;\n",
       "    }\n",
       "\n",
       "    .dataframe tbody tr th {\n",
       "        vertical-align: top;\n",
       "    }\n",
       "\n",
       "    .dataframe thead th {\n",
       "        text-align: right;\n",
       "    }\n",
       "</style>\n",
       "<table border=\"1\" class=\"dataframe\">\n",
       "  <thead>\n",
       "    <tr style=\"text-align: right;\">\n",
       "      <th></th>\n",
       "      <th>state</th>\n",
       "      <th>voice mail plan</th>\n",
       "      <th>international plan</th>\n",
       "      <th>phone number</th>\n",
       "    </tr>\n",
       "  </thead>\n",
       "  <tbody>\n",
       "    <tr>\n",
       "      <th>0</th>\n",
       "      <td>KS</td>\n",
       "      <td>yes</td>\n",
       "      <td>no</td>\n",
       "      <td>382-4657</td>\n",
       "    </tr>\n",
       "    <tr>\n",
       "      <th>1</th>\n",
       "      <td>OH</td>\n",
       "      <td>yes</td>\n",
       "      <td>no</td>\n",
       "      <td>371-7191</td>\n",
       "    </tr>\n",
       "    <tr>\n",
       "      <th>2</th>\n",
       "      <td>NJ</td>\n",
       "      <td>no</td>\n",
       "      <td>no</td>\n",
       "      <td>358-1921</td>\n",
       "    </tr>\n",
       "    <tr>\n",
       "      <th>3</th>\n",
       "      <td>OH</td>\n",
       "      <td>no</td>\n",
       "      <td>yes</td>\n",
       "      <td>375-9999</td>\n",
       "    </tr>\n",
       "    <tr>\n",
       "      <th>4</th>\n",
       "      <td>OK</td>\n",
       "      <td>no</td>\n",
       "      <td>yes</td>\n",
       "      <td>330-6626</td>\n",
       "    </tr>\n",
       "    <tr>\n",
       "      <th>...</th>\n",
       "      <td>...</td>\n",
       "      <td>...</td>\n",
       "      <td>...</td>\n",
       "      <td>...</td>\n",
       "    </tr>\n",
       "    <tr>\n",
       "      <th>3328</th>\n",
       "      <td>AZ</td>\n",
       "      <td>yes</td>\n",
       "      <td>no</td>\n",
       "      <td>414-4276</td>\n",
       "    </tr>\n",
       "    <tr>\n",
       "      <th>3329</th>\n",
       "      <td>WV</td>\n",
       "      <td>no</td>\n",
       "      <td>no</td>\n",
       "      <td>370-3271</td>\n",
       "    </tr>\n",
       "    <tr>\n",
       "      <th>3330</th>\n",
       "      <td>RI</td>\n",
       "      <td>no</td>\n",
       "      <td>no</td>\n",
       "      <td>328-8230</td>\n",
       "    </tr>\n",
       "    <tr>\n",
       "      <th>3331</th>\n",
       "      <td>CT</td>\n",
       "      <td>no</td>\n",
       "      <td>yes</td>\n",
       "      <td>364-6381</td>\n",
       "    </tr>\n",
       "    <tr>\n",
       "      <th>3332</th>\n",
       "      <td>TN</td>\n",
       "      <td>yes</td>\n",
       "      <td>no</td>\n",
       "      <td>400-4344</td>\n",
       "    </tr>\n",
       "  </tbody>\n",
       "</table>\n",
       "<p>3333 rows × 4 columns</p>\n",
       "</div>"
      ],
      "text/plain": [
       "     state voice mail plan international plan phone number\n",
       "0       KS             yes                 no     382-4657\n",
       "1       OH             yes                 no     371-7191\n",
       "2       NJ              no                 no     358-1921\n",
       "3       OH              no                yes     375-9999\n",
       "4       OK              no                yes     330-6626\n",
       "...    ...             ...                ...          ...\n",
       "3328    AZ             yes                 no     414-4276\n",
       "3329    WV              no                 no     370-3271\n",
       "3330    RI              no                 no     328-8230\n",
       "3331    CT              no                yes     364-6381\n",
       "3332    TN             yes                 no     400-4344\n",
       "\n",
       "[3333 rows x 4 columns]"
      ]
     },
     "execution_count": 95,
     "metadata": {},
     "output_type": "execute_result"
    }
   ],
   "source": [
    "object_columns = ['state','voice mail plan','international plan','phone number']\n",
    "df.loc[:,object_columns]"
   ]
  },
  {
   "cell_type": "markdown",
   "metadata": {},
   "source": [
    "so the internation plan and the voice mail plan are boolean so will convert to bool the state isnt really required so we can drop that column and also phone number.But before dropping state will look at how different state have different numbers of churns and see if theres a pattern somewhere and the state with the greatest number of churned customers"
   ]
  },
  {
   "cell_type": "code",
   "execution_count": 96,
   "metadata": {},
   "outputs": [
    {
     "data": {
      "text/plain": [
       "0     True\n",
       "1     True\n",
       "2    False\n",
       "3    False\n",
       "4    False\n",
       "Name: voice mail plan, dtype: object"
      ]
     },
     "execution_count": 96,
     "metadata": {},
     "output_type": "execute_result"
    }
   ],
   "source": [
    "for index,data in enumerate(df['voice mail plan']):\n",
    "    if data == 'yes':\n",
    "        df['voice mail plan'][index] = True\n",
    "    else:\n",
    "        df['voice mail plan'][index] = False\n",
    "df['voice mail plan'].head()\n"
   ]
  },
  {
   "cell_type": "code",
   "execution_count": 97,
   "metadata": {},
   "outputs": [
    {
     "data": {
      "text/plain": [
       "voice mail plan\n",
       "False    2411\n",
       "True      922\n",
       "Name: count, dtype: int64"
      ]
     },
     "execution_count": 97,
     "metadata": {},
     "output_type": "execute_result"
    }
   ],
   "source": [
    "df['voice mail plan'] = df['voice mail plan'].astype(bool)\n",
    "df['voice mail plan'].value_counts()"
   ]
  },
  {
   "cell_type": "code",
   "execution_count": 98,
   "metadata": {},
   "outputs": [
    {
     "data": {
      "text/plain": [
       "international plan\n",
       "no     3010\n",
       "yes     323\n",
       "Name: count, dtype: int64"
      ]
     },
     "execution_count": 98,
     "metadata": {},
     "output_type": "execute_result"
    }
   ],
   "source": [
    "df['international plan'].value_counts()"
   ]
  },
  {
   "cell_type": "code",
   "execution_count": 99,
   "metadata": {},
   "outputs": [
    {
     "data": {
      "text/plain": [
       "churn\n",
       "False    2850\n",
       "True      483\n",
       "Name: count, dtype: int64"
      ]
     },
     "execution_count": 99,
     "metadata": {},
     "output_type": "execute_result"
    }
   ],
   "source": [
    "df['churn'].value_counts()"
   ]
  },
  {
   "cell_type": "code",
   "execution_count": null,
   "metadata": {},
   "outputs": [],
   "source": []
  },
  {
   "cell_type": "markdown",
   "metadata": {},
   "source": [
    "Converted the international plan to boolean true and false values as show below"
   ]
  },
  {
   "cell_type": "code",
   "execution_count": 69,
   "metadata": {},
   "outputs": [
    {
     "data": {
      "text/plain": [
       "international plan\n",
       "False    3010\n",
       "True      323\n",
       "Name: count, dtype: int64"
      ]
     },
     "execution_count": 69,
     "metadata": {},
     "output_type": "execute_result"
    }
   ],
   "source": [
    "for index,data in enumerate(df['international plan']):\n",
    "    if data == 'yes':\n",
    "        df['international plan'][index] = True\n",
    "    else:\n",
    "        df['international plan'][index] = False\n",
    "df['international plan'] = df['international plan'].astype(bool)\n",
    "df['international plan'].value_counts()"
   ]
  },
  {
   "cell_type": "code",
   "execution_count": 70,
   "metadata": {},
   "outputs": [
    {
     "data": {
      "text/plain": [
       "state\n",
       "WV    106\n",
       "MN     84\n",
       "NY     83\n",
       "AL     80\n",
       "WI     78\n",
       "OH     78\n",
       "OR     78\n",
       "WY     77\n",
       "VA     77\n",
       "CT     74\n",
       "MI     73\n",
       "ID     73\n",
       "VT     73\n",
       "TX     72\n",
       "UT     72\n",
       "IN     71\n",
       "MD     70\n",
       "KS     70\n",
       "NC     68\n",
       "NJ     68\n",
       "MT     68\n",
       "CO     66\n",
       "NV     66\n",
       "WA     66\n",
       "RI     65\n",
       "MA     65\n",
       "MS     65\n",
       "AZ     64\n",
       "FL     63\n",
       "MO     63\n",
       "NM     62\n",
       "ME     62\n",
       "ND     62\n",
       "NE     61\n",
       "OK     61\n",
       "DE     61\n",
       "SC     60\n",
       "SD     60\n",
       "KY     59\n",
       "IL     58\n",
       "NH     56\n",
       "AR     55\n",
       "GA     54\n",
       "DC     54\n",
       "HI     53\n",
       "TN     53\n",
       "AK     52\n",
       "LA     51\n",
       "PA     45\n",
       "IA     44\n",
       "CA     34\n",
       "Name: count, dtype: int64"
      ]
     },
     "execution_count": 70,
     "metadata": {},
     "output_type": "execute_result"
    }
   ],
   "source": [
    "df['state'].value_counts()\n"
   ]
  },
  {
   "cell_type": "markdown",
   "metadata": {},
   "source": [
    "Since its significant one hot encoding could be use to create classification categories for the values in state allowing for Logistics Regression to be done.Earlier high imbalance was observed between the values in international plan and voice mail plan columns and so we would have to perform some smote operations to deal with such"
   ]
  },
  {
   "cell_type": "markdown",
   "metadata": {},
   "source": [
    "One hot encoding on the state column"
   ]
  },
  {
   "cell_type": "code",
   "execution_count": 71,
   "metadata": {},
   "outputs": [
    {
     "name": "stdout",
     "output_type": "stream",
     "text": [
      "<class 'pandas.core.frame.DataFrame'>\n",
      "RangeIndex: 3333 entries, 0 to 3332\n",
      "Data columns (total 70 columns):\n",
      " #   Column                  Non-Null Count  Dtype  \n",
      "---  ------                  --------------  -----  \n",
      " 0   account length          3333 non-null   int64  \n",
      " 1   area code               3333 non-null   int64  \n",
      " 2   phone number            3333 non-null   object \n",
      " 3   international plan      3333 non-null   bool   \n",
      " 4   voice mail plan         3333 non-null   bool   \n",
      " 5   number vmail messages   3333 non-null   int64  \n",
      " 6   total day minutes       3333 non-null   float64\n",
      " 7   total day calls         3333 non-null   int64  \n",
      " 8   total day charge        3333 non-null   float64\n",
      " 9   total eve minutes       3333 non-null   float64\n",
      " 10  total eve calls         3333 non-null   int64  \n",
      " 11  total eve charge        3333 non-null   float64\n",
      " 12  total night minutes     3333 non-null   float64\n",
      " 13  total night calls       3333 non-null   int64  \n",
      " 14  total night charge      3333 non-null   float64\n",
      " 15  total intl minutes      3333 non-null   float64\n",
      " 16  total intl calls        3333 non-null   int64  \n",
      " 17  total intl charge       3333 non-null   float64\n",
      " 18  customer service calls  3333 non-null   int64  \n",
      " 19  churn                   3333 non-null   bool   \n",
      " 20  encoded_AL              3333 non-null   bool   \n",
      " 21  encoded_AR              3333 non-null   bool   \n",
      " 22  encoded_AZ              3333 non-null   bool   \n",
      " 23  encoded_CA              3333 non-null   bool   \n",
      " 24  encoded_CO              3333 non-null   bool   \n",
      " 25  encoded_CT              3333 non-null   bool   \n",
      " 26  encoded_DC              3333 non-null   bool   \n",
      " 27  encoded_DE              3333 non-null   bool   \n",
      " 28  encoded_FL              3333 non-null   bool   \n",
      " 29  encoded_GA              3333 non-null   bool   \n",
      " 30  encoded_HI              3333 non-null   bool   \n",
      " 31  encoded_IA              3333 non-null   bool   \n",
      " 32  encoded_ID              3333 non-null   bool   \n",
      " 33  encoded_IL              3333 non-null   bool   \n",
      " 34  encoded_IN              3333 non-null   bool   \n",
      " 35  encoded_KS              3333 non-null   bool   \n",
      " 36  encoded_KY              3333 non-null   bool   \n",
      " 37  encoded_LA              3333 non-null   bool   \n",
      " 38  encoded_MA              3333 non-null   bool   \n",
      " 39  encoded_MD              3333 non-null   bool   \n",
      " 40  encoded_ME              3333 non-null   bool   \n",
      " 41  encoded_MI              3333 non-null   bool   \n",
      " 42  encoded_MN              3333 non-null   bool   \n",
      " 43  encoded_MO              3333 non-null   bool   \n",
      " 44  encoded_MS              3333 non-null   bool   \n",
      " 45  encoded_MT              3333 non-null   bool   \n",
      " 46  encoded_NC              3333 non-null   bool   \n",
      " 47  encoded_ND              3333 non-null   bool   \n",
      " 48  encoded_NE              3333 non-null   bool   \n",
      " 49  encoded_NH              3333 non-null   bool   \n",
      " 50  encoded_NJ              3333 non-null   bool   \n",
      " 51  encoded_NM              3333 non-null   bool   \n",
      " 52  encoded_NV              3333 non-null   bool   \n",
      " 53  encoded_NY              3333 non-null   bool   \n",
      " 54  encoded_OH              3333 non-null   bool   \n",
      " 55  encoded_OK              3333 non-null   bool   \n",
      " 56  encoded_OR              3333 non-null   bool   \n",
      " 57  encoded_PA              3333 non-null   bool   \n",
      " 58  encoded_RI              3333 non-null   bool   \n",
      " 59  encoded_SC              3333 non-null   bool   \n",
      " 60  encoded_SD              3333 non-null   bool   \n",
      " 61  encoded_TN              3333 non-null   bool   \n",
      " 62  encoded_TX              3333 non-null   bool   \n",
      " 63  encoded_UT              3333 non-null   bool   \n",
      " 64  encoded_VA              3333 non-null   bool   \n",
      " 65  encoded_VT              3333 non-null   bool   \n",
      " 66  encoded_WA              3333 non-null   bool   \n",
      " 67  encoded_WI              3333 non-null   bool   \n",
      " 68  encoded_WV              3333 non-null   bool   \n",
      " 69  encoded_WY              3333 non-null   bool   \n",
      "dtypes: bool(53), float64(8), int64(8), object(1)\n",
      "memory usage: 615.3+ KB\n"
     ]
    }
   ],
   "source": [
    "encoded_column = pd.get_dummies(df['state'],prefix='encoded',drop_first=True)\n",
    "df = pd.concat([df.drop(columns='state'),encoded_column],axis=1)\n",
    "df.info()"
   ]
  },
  {
   "cell_type": "markdown",
   "metadata": {},
   "source": [
    "One hot encoded the area code column below:"
   ]
  },
  {
   "cell_type": "code",
   "execution_count": 72,
   "metadata": {},
   "outputs": [
    {
     "data": {
      "text/plain": [
       "area code\n",
       "415    1655\n",
       "510     840\n",
       "408     838\n",
       "Name: count, dtype: int64"
      ]
     },
     "execution_count": 72,
     "metadata": {},
     "output_type": "execute_result"
    }
   ],
   "source": [
    "df['area code'].value_counts()"
   ]
  },
  {
   "cell_type": "code",
   "execution_count": 73,
   "metadata": {},
   "outputs": [
    {
     "data": {
      "text/plain": [
       "Index(['account length', 'phone number', 'international plan',\n",
       "       'voice mail plan', 'number vmail messages', 'total day minutes',\n",
       "       'total day calls', 'total day charge', 'total eve minutes',\n",
       "       'total eve calls', 'total eve charge', 'total night minutes',\n",
       "       'total night calls', 'total night charge', 'total intl minutes',\n",
       "       'total intl calls', 'total intl charge', 'customer service calls',\n",
       "       'churn', 'encoded_AL', 'encoded_AR', 'encoded_AZ', 'encoded_CA',\n",
       "       'encoded_CO', 'encoded_CT', 'encoded_DC', 'encoded_DE', 'encoded_FL',\n",
       "       'encoded_GA', 'encoded_HI', 'encoded_IA', 'encoded_ID', 'encoded_IL',\n",
       "       'encoded_IN', 'encoded_KS', 'encoded_KY', 'encoded_LA', 'encoded_MA',\n",
       "       'encoded_MD', 'encoded_ME', 'encoded_MI', 'encoded_MN', 'encoded_MO',\n",
       "       'encoded_MS', 'encoded_MT', 'encoded_NC', 'encoded_ND', 'encoded_NE',\n",
       "       'encoded_NH', 'encoded_NJ', 'encoded_NM', 'encoded_NV', 'encoded_NY',\n",
       "       'encoded_OH', 'encoded_OK', 'encoded_OR', 'encoded_PA', 'encoded_RI',\n",
       "       'encoded_SC', 'encoded_SD', 'encoded_TN', 'encoded_TX', 'encoded_UT',\n",
       "       'encoded_VA', 'encoded_VT', 'encoded_WA', 'encoded_WI', 'encoded_WV',\n",
       "       'encoded_WY', 'encoded_415', 'encoded_510'],\n",
       "      dtype='object')"
      ]
     },
     "execution_count": 73,
     "metadata": {},
     "output_type": "execute_result"
    }
   ],
   "source": [
    "encoded_area = pd.get_dummies(df['area code'],drop_first=True,prefix='encoded')\n",
    "df = pd.concat([df.drop(columns='area code'),encoded_area],axis=1)\n",
    "df.columns"
   ]
  },
  {
   "cell_type": "markdown",
   "metadata": {},
   "source": [
    "we'll drop the phone number since its all unique"
   ]
  },
  {
   "cell_type": "code",
   "execution_count": 74,
   "metadata": {},
   "outputs": [
    {
     "data": {
      "text/plain": [
       "0"
      ]
     },
     "execution_count": 74,
     "metadata": {},
     "output_type": "execute_result"
    }
   ],
   "source": [
    "df.duplicated().sum()"
   ]
  },
  {
   "cell_type": "code",
   "execution_count": 75,
   "metadata": {},
   "outputs": [],
   "source": [
    "df = df.drop(columns='phone number')"
   ]
  },
  {
   "cell_type": "code",
   "execution_count": 76,
   "metadata": {},
   "outputs": [
    {
     "data": {
      "text/plain": [
       "churn\n",
       "False    2850\n",
       "True      483\n",
       "Name: count, dtype: int64"
      ]
     },
     "execution_count": 76,
     "metadata": {},
     "output_type": "execute_result"
    }
   ],
   "source": [
    "df['churn'].value_counts()"
   ]
  },
  {
   "cell_type": "markdown",
   "metadata": {},
   "source": [
    "Scaling only the continuous features ignoring the one hot encoded ones and ones with binary classification ie bool data type"
   ]
  },
  {
   "cell_type": "code",
   "execution_count": 77,
   "metadata": {},
   "outputs": [
    {
     "data": {
      "text/html": [
       "<div>\n",
       "<style scoped>\n",
       "    .dataframe tbody tr th:only-of-type {\n",
       "        vertical-align: middle;\n",
       "    }\n",
       "\n",
       "    .dataframe tbody tr th {\n",
       "        vertical-align: top;\n",
       "    }\n",
       "\n",
       "    .dataframe thead th {\n",
       "        text-align: right;\n",
       "    }\n",
       "</style>\n",
       "<table border=\"1\" class=\"dataframe\">\n",
       "  <thead>\n",
       "    <tr style=\"text-align: right;\">\n",
       "      <th></th>\n",
       "      <th>account length</th>\n",
       "      <th>number vmail messages</th>\n",
       "      <th>total day minutes</th>\n",
       "      <th>total day calls</th>\n",
       "      <th>total day charge</th>\n",
       "      <th>total eve minutes</th>\n",
       "      <th>total eve calls</th>\n",
       "      <th>total eve charge</th>\n",
       "      <th>total night minutes</th>\n",
       "      <th>total night calls</th>\n",
       "      <th>total night charge</th>\n",
       "      <th>total intl minutes</th>\n",
       "      <th>total intl calls</th>\n",
       "      <th>total intl charge</th>\n",
       "      <th>customer service calls</th>\n",
       "    </tr>\n",
       "  </thead>\n",
       "  <tbody>\n",
       "    <tr>\n",
       "      <th>count</th>\n",
       "      <td>3.333000e+03</td>\n",
       "      <td>3.333000e+03</td>\n",
       "      <td>3.333000e+03</td>\n",
       "      <td>3.333000e+03</td>\n",
       "      <td>3.333000e+03</td>\n",
       "      <td>3.333000e+03</td>\n",
       "      <td>3.333000e+03</td>\n",
       "      <td>3.333000e+03</td>\n",
       "      <td>3.333000e+03</td>\n",
       "      <td>3.333000e+03</td>\n",
       "      <td>3.333000e+03</td>\n",
       "      <td>3.333000e+03</td>\n",
       "      <td>3.333000e+03</td>\n",
       "      <td>3.333000e+03</td>\n",
       "      <td>3.333000e+03</td>\n",
       "    </tr>\n",
       "    <tr>\n",
       "      <th>mean</th>\n",
       "      <td>1.470971e-16</td>\n",
       "      <td>7.035077e-17</td>\n",
       "      <td>7.312216e-16</td>\n",
       "      <td>-1.934646e-16</td>\n",
       "      <td>-2.835349e-16</td>\n",
       "      <td>-6.821892e-17</td>\n",
       "      <td>3.288365e-16</td>\n",
       "      <td>1.385697e-16</td>\n",
       "      <td>7.887813e-17</td>\n",
       "      <td>-4.903235e-17</td>\n",
       "      <td>-4.370275e-17</td>\n",
       "      <td>-3.336332e-16</td>\n",
       "      <td>-8.527366e-18</td>\n",
       "      <td>2.728757e-16</td>\n",
       "      <td>8.527366e-18</td>\n",
       "    </tr>\n",
       "    <tr>\n",
       "      <th>std</th>\n",
       "      <td>1.000150e+00</td>\n",
       "      <td>1.000150e+00</td>\n",
       "      <td>1.000150e+00</td>\n",
       "      <td>1.000150e+00</td>\n",
       "      <td>1.000150e+00</td>\n",
       "      <td>1.000150e+00</td>\n",
       "      <td>1.000150e+00</td>\n",
       "      <td>1.000150e+00</td>\n",
       "      <td>1.000150e+00</td>\n",
       "      <td>1.000150e+00</td>\n",
       "      <td>1.000150e+00</td>\n",
       "      <td>1.000150e+00</td>\n",
       "      <td>1.000150e+00</td>\n",
       "      <td>1.000150e+00</td>\n",
       "      <td>1.000150e+00</td>\n",
       "    </tr>\n",
       "    <tr>\n",
       "      <th>min</th>\n",
       "      <td>-2.513172e+00</td>\n",
       "      <td>-5.917599e-01</td>\n",
       "      <td>-3.301096e+00</td>\n",
       "      <td>-5.005247e+00</td>\n",
       "      <td>-3.301162e+00</td>\n",
       "      <td>-3.963622e+00</td>\n",
       "      <td>-5.025911e+00</td>\n",
       "      <td>-3.963679e+00</td>\n",
       "      <td>-3.513648e+00</td>\n",
       "      <td>-3.429870e+00</td>\n",
       "      <td>-3.515366e+00</td>\n",
       "      <td>-3.667413e+00</td>\n",
       "      <td>-1.820289e+00</td>\n",
       "      <td>-3.668210e+00</td>\n",
       "      <td>-1.188218e+00</td>\n",
       "    </tr>\n",
       "    <tr>\n",
       "      <th>25%</th>\n",
       "      <td>-6.797448e-01</td>\n",
       "      <td>-5.917599e-01</td>\n",
       "      <td>-6.624241e-01</td>\n",
       "      <td>-6.695701e-01</td>\n",
       "      <td>-6.623760e-01</td>\n",
       "      <td>-6.780300e-01</td>\n",
       "      <td>-6.583610e-01</td>\n",
       "      <td>-6.783123e-01</td>\n",
       "      <td>-6.698545e-01</td>\n",
       "      <td>-6.699340e-01</td>\n",
       "      <td>-6.676792e-01</td>\n",
       "      <td>-6.223690e-01</td>\n",
       "      <td>-6.011951e-01</td>\n",
       "      <td>-6.164341e-01</td>\n",
       "      <td>-4.279320e-01</td>\n",
       "    </tr>\n",
       "    <tr>\n",
       "      <th>50%</th>\n",
       "      <td>-1.627644e-03</td>\n",
       "      <td>-5.917599e-01</td>\n",
       "      <td>-6.887677e-03</td>\n",
       "      <td>2.812491e-02</td>\n",
       "      <td>-6.730063e-03</td>\n",
       "      <td>8.276141e-03</td>\n",
       "      <td>-5.738630e-03</td>\n",
       "      <td>8.459274e-03</td>\n",
       "      <td>6.485803e-03</td>\n",
       "      <td>-5.505089e-03</td>\n",
       "      <td>4.691242e-03</td>\n",
       "      <td>2.246393e-02</td>\n",
       "      <td>-1.948306e-01</td>\n",
       "      <td>2.045823e-02</td>\n",
       "      <td>-4.279320e-01</td>\n",
       "    </tr>\n",
       "    <tr>\n",
       "      <th>75%</th>\n",
       "      <td>6.513740e-01</td>\n",
       "      <td>8.695542e-01</td>\n",
       "      <td>6.725198e-01</td>\n",
       "      <td>6.759846e-01</td>\n",
       "      <td>6.726790e-01</td>\n",
       "      <td>6.768330e-01</td>\n",
       "      <td>6.970854e-01</td>\n",
       "      <td>6.766695e-01</td>\n",
       "      <td>6.808485e-01</td>\n",
       "      <td>6.589239e-01</td>\n",
       "      <td>6.814562e-01</td>\n",
       "      <td>6.672969e-01</td>\n",
       "      <td>6.178983e-01</td>\n",
       "      <td>6.706192e-01</td>\n",
       "      <td>3.323545e-01</td>\n",
       "    </tr>\n",
       "    <tr>\n",
       "      <th>max</th>\n",
       "      <td>3.564766e+00</td>\n",
       "      <td>3.134591e+00</td>\n",
       "      <td>3.140422e+00</td>\n",
       "      <td>3.217588e+00</td>\n",
       "      <td>3.140803e+00</td>\n",
       "      <td>3.209066e+00</td>\n",
       "      <td>3.508382e+00</td>\n",
       "      <td>3.207980e+00</td>\n",
       "      <td>3.839081e+00</td>\n",
       "      <td>3.827739e+00</td>\n",
       "      <td>3.836763e+00</td>\n",
       "      <td>3.497397e+00</td>\n",
       "      <td>6.307001e+00</td>\n",
       "      <td>3.496829e+00</td>\n",
       "      <td>5.654360e+00</td>\n",
       "    </tr>\n",
       "  </tbody>\n",
       "</table>\n",
       "</div>"
      ],
      "text/plain": [
       "       account length  number vmail messages  total day minutes  \\\n",
       "count    3.333000e+03           3.333000e+03       3.333000e+03   \n",
       "mean     1.470971e-16           7.035077e-17       7.312216e-16   \n",
       "std      1.000150e+00           1.000150e+00       1.000150e+00   \n",
       "min     -2.513172e+00          -5.917599e-01      -3.301096e+00   \n",
       "25%     -6.797448e-01          -5.917599e-01      -6.624241e-01   \n",
       "50%     -1.627644e-03          -5.917599e-01      -6.887677e-03   \n",
       "75%      6.513740e-01           8.695542e-01       6.725198e-01   \n",
       "max      3.564766e+00           3.134591e+00       3.140422e+00   \n",
       "\n",
       "       total day calls  total day charge  total eve minutes  total eve calls  \\\n",
       "count     3.333000e+03      3.333000e+03       3.333000e+03     3.333000e+03   \n",
       "mean     -1.934646e-16     -2.835349e-16      -6.821892e-17     3.288365e-16   \n",
       "std       1.000150e+00      1.000150e+00       1.000150e+00     1.000150e+00   \n",
       "min      -5.005247e+00     -3.301162e+00      -3.963622e+00    -5.025911e+00   \n",
       "25%      -6.695701e-01     -6.623760e-01      -6.780300e-01    -6.583610e-01   \n",
       "50%       2.812491e-02     -6.730063e-03       8.276141e-03    -5.738630e-03   \n",
       "75%       6.759846e-01      6.726790e-01       6.768330e-01     6.970854e-01   \n",
       "max       3.217588e+00      3.140803e+00       3.209066e+00     3.508382e+00   \n",
       "\n",
       "       total eve charge  total night minutes  total night calls  \\\n",
       "count      3.333000e+03         3.333000e+03       3.333000e+03   \n",
       "mean       1.385697e-16         7.887813e-17      -4.903235e-17   \n",
       "std        1.000150e+00         1.000150e+00       1.000150e+00   \n",
       "min       -3.963679e+00        -3.513648e+00      -3.429870e+00   \n",
       "25%       -6.783123e-01        -6.698545e-01      -6.699340e-01   \n",
       "50%        8.459274e-03         6.485803e-03      -5.505089e-03   \n",
       "75%        6.766695e-01         6.808485e-01       6.589239e-01   \n",
       "max        3.207980e+00         3.839081e+00       3.827739e+00   \n",
       "\n",
       "       total night charge  total intl minutes  total intl calls  \\\n",
       "count        3.333000e+03        3.333000e+03      3.333000e+03   \n",
       "mean        -4.370275e-17       -3.336332e-16     -8.527366e-18   \n",
       "std          1.000150e+00        1.000150e+00      1.000150e+00   \n",
       "min         -3.515366e+00       -3.667413e+00     -1.820289e+00   \n",
       "25%         -6.676792e-01       -6.223690e-01     -6.011951e-01   \n",
       "50%          4.691242e-03        2.246393e-02     -1.948306e-01   \n",
       "75%          6.814562e-01        6.672969e-01      6.178983e-01   \n",
       "max          3.836763e+00        3.497397e+00      6.307001e+00   \n",
       "\n",
       "       total intl charge  customer service calls  \n",
       "count       3.333000e+03            3.333000e+03  \n",
       "mean        2.728757e-16            8.527366e-18  \n",
       "std         1.000150e+00            1.000150e+00  \n",
       "min        -3.668210e+00           -1.188218e+00  \n",
       "25%        -6.164341e-01           -4.279320e-01  \n",
       "50%         2.045823e-02           -4.279320e-01  \n",
       "75%         6.706192e-01            3.323545e-01  \n",
       "max         3.496829e+00            5.654360e+00  "
      ]
     },
     "execution_count": 77,
     "metadata": {},
     "output_type": "execute_result"
    }
   ],
   "source": [
    "continuous_features = ['account length', 'number vmail messages', 'total day minutes', 'total day calls',\n",
    "                      'total day charge', 'total eve minutes', 'total eve calls', 'total eve charge',\n",
    "                      'total night minutes', 'total night calls', 'total night charge', 'total intl minutes',\n",
    "                      'total intl calls', 'total intl charge', 'customer service calls']\n",
    "scaler = StandardScaler()\n",
    "df[continuous_features] = scaler.fit_transform(df[continuous_features])\n",
    "df.describe()"
   ]
  },
  {
   "cell_type": "markdown",
   "metadata": {},
   "source": [
    "It has a bit more columns but atleast the state was encoded correctly so the next step would be to split our data to train and test datasets using random state of 42 and a test size of 0.25"
   ]
  },
  {
   "cell_type": "code",
   "execution_count": 78,
   "metadata": {},
   "outputs": [],
   "source": [
    "# we will assign the predictive features to X and the target to y\n",
    "X = df.drop(columns='churn')\n",
    "y = df['churn']\n",
    "\n",
    "X_train,X_test,y_train,y_test = train_test_split(X,y,test_size=0.25,random_state=42)\n",
    "assert X_train.shape[0] == y_train.shape[0]\n",
    "assert X_test.shape[0] == y_test.shape[0]\n"
   ]
  },
  {
   "cell_type": "markdown",
   "metadata": {},
   "source": [
    "Now that thats successful we have created a train test split lets create a model and fit out training data using default hyperparameters\n"
   ]
  },
  {
   "cell_type": "code",
   "execution_count": 79,
   "metadata": {},
   "outputs": [
    {
     "name": "stdout",
     "output_type": "stream",
     "text": [
      "              precision    recall  f1-score   support\n",
      "\n",
      "       False       0.87      0.97      0.92       709\n",
      "        True       0.56      0.19      0.29       125\n",
      "\n",
      "    accuracy                           0.86       834\n",
      "   macro avg       0.72      0.58      0.60       834\n",
      "weighted avg       0.83      0.86      0.82       834\n",
      "\n"
     ]
    }
   ],
   "source": [
    "logreg = LogisticRegression()\n",
    "logreg.fit(X_train,y_train)\n",
    "y_pred = logreg.predict(X_test)\n",
    "f1_scoree = f1_score(y_true=y_test,y_pred=y_pred)\n",
    "accuracy_score = accuracy_score(y_true=y_test,y_pred=y_pred)\n",
    "classification_report = classification_report(y_true=y_test,y_pred=y_pred)\n",
    "print(classification_report)"
   ]
  },
  {
   "cell_type": "code",
   "execution_count": 80,
   "metadata": {},
   "outputs": [],
   "source": [
    "baseline_accuracy = 0.86\n",
    "baseline_precision = 0.83\n",
    "baseline_recall = 0.86\n",
    "baseline_f1score = 0.82"
   ]
  },
  {
   "cell_type": "markdown",
   "metadata": {},
   "source": [
    "A weighted average of 0.82 considering the class imbalance isnt that bad honestly.We have an accuracy of 0.86 but the imbalanced target makes this understandable but not the right metric to use in measuring the performance of the model.Below,created a dummy classifier model and compared it to the baseline model in the ROC curve"
   ]
  },
  {
   "cell_type": "code",
   "execution_count": 81,
   "metadata": {},
   "outputs": [
    {
     "data": {
      "image/png": "[encoded data removed]",
      "text/plain": [
       "<Figure size 640x480 with 1 Axes>"
      ]
     },
     "metadata": {},
     "output_type": "display_data"
    }
   ],
   "source": [
    "y_pred_prob_lr = logreg.predict_proba(X_test)[:, 1]\n",
    "\n",
    "\n",
    "dummy_model = DummyClassifier(strategy='constant', constant=0)\n",
    "dummy_model.fit(X_train, y_train)\n",
    "y_pred_prob_dummy = dummy_model.predict_proba(X_test)[:, 1]\n",
    "fpr_lr, tpr_lr, _ = roc_curve(y_test, y_pred_prob_lr)\n",
    "roc_auc_lr = auc(fpr_lr, tpr_lr)\n",
    "fpr_dummy, tpr_dummy, _ = roc_curve(y_test, y_pred_prob_dummy)\n",
    "roc_auc_dummy = auc(fpr_dummy, tpr_dummy)\n",
    "plt.figure()\n",
    "plt.plot(fpr_lr, tpr_lr, color='blue', lw=2, label='Logistic Regression (AUC = %0.2f)' % roc_auc_lr)\n",
    "plt.plot(fpr_dummy, tpr_dummy, color='red', lw=2, linestyle='--', label='Dummy Model (AUC = %0.2f)' % roc_auc_dummy)\n",
    "plt.plot([0, 1], [0, 1], color='gray', lw=1, linestyle='--')\n",
    "plt.xlabel('False Positive Rate')\n",
    "plt.ylabel('True Positive Rate')\n",
    "plt.title('ROC Curve baseline model vs dummy model')\n",
    "plt.legend(loc='lower right')\n",
    "plt.grid(True)\n",
    "plt.show()\n"
   ]
  },
  {
   "cell_type": "markdown",
   "metadata": {},
   "source": [
    "The Logisitc Regression model with an AUC of 0.78 does a bit better as copmared to a dummy model.Now lets look at ways we could maybe improve the performance of our model to maybe increase the AUC of the model.We used grid search to find the most optimal hyperparameters for the baseline model and trained a new model with the training and testing dataset and used the hyperparameters found to determine the Weighted average F1 score as shown below\n"
   ]
  },
  {
   "cell_type": "code",
   "execution_count": 82,
   "metadata": {},
   "outputs": [
    {
     "name": "stdout",
     "output_type": "stream",
     "text": [
      "Fitting 5 folds for each of 12 candidates, totalling 60 fits\n",
      "Best Hyperparameters: {'C': 100, 'penalty': 'l2'}\n",
      "Weighted Average F1 Score: 0.8303224801270839 \n",
      " Difference Average F1 Score: 0.010322480127083922\n"
     ]
    }
   ],
   "source": [
    "param_grid = {\n",
    "    'C': [0.001, 0.01, 0.1, 1, 10, 100],\n",
    "    'penalty': ['l1', 'l2']\n",
    "}\n",
    "scorer = make_scorer(f1_score, average='weighted')\n",
    "grid_search = GridSearchCV(estimator=logreg, param_grid=param_grid, cv=5, scoring=scorer, verbose=1)\n",
    "grid_search.fit(X_train, y_train)\n",
    "best_params = grid_search.best_params_\n",
    "print(\"Best Hyperparameters:\", best_params)\n",
    "best_model = grid_search.best_estimator_\n",
    "y_pred = best_model.predict(X_test)\n",
    "weighted_avg_f1 = f1_score(y_test, y_pred, average='weighted')\n",
    "print(\"Weighted Average F1 Score:\", weighted_avg_f1,'\\n','Difference Average F1 Score:', weighted_avg_f1-baseline_f1score)"
   ]
  },
  {
   "cell_type": "markdown",
   "metadata": {},
   "source": [
    "So the weighted average F1 score has increase by a small percentage of about 1% increase in the f1 score.Below we create a dummy model and log reg model with the optimal hyper parameters found and train it and compare both the models in a ROC curve to see which performs better after"
   ]
  },
  {
   "cell_type": "code",
   "execution_count": 61,
   "metadata": {},
   "outputs": [
    {
     "data": {
      "image/png": "[encoded data removed]",
      "text/plain": [
       "<Figure size 800x600 with 1 Axes>"
      ]
     },
     "metadata": {},
     "output_type": "display_data"
    }
   ],
   "source": [
    "\n",
    "\n",
    "logreg = LogisticRegression(**best_params)\n",
    "dummy = DummyClassifier(strategy='constant',constant=0)\n",
    "\n",
    "logreg.fit(X_train,y_train)\n",
    "dummy.fit(X_train, y_train)\n",
    "\n",
    "y_pred_prob_logreg = logreg.predict_proba(X_test)[:, 1]\n",
    "y_pred_prob_dummy = dummy.predict_proba(X_test)[:, 1]\n",
    "\n",
    "fpr_logreg, tpr_logreg, _ = roc_curve(y_test, y_pred_prob_logreg)\n",
    "roc_auc_logreg = auc(fpr_logreg, tpr_logreg)\n",
    "\n",
    "fpr_dummy, tpr_dummy, _ = roc_curve(y_test, y_pred_prob_dummy)\n",
    "roc_auc_dummy = auc(fpr_dummy, tpr_dummy)\n",
    "\n",
    "plt.figure(figsize=(8, 6))\n",
    "plt.plot(fpr_logreg, tpr_logreg, color='blue', lw=2, label='Logistic Regression (AUC = %0.2f)' % roc_auc_logreg)\n",
    "plt.plot(fpr_dummy, tpr_dummy, color='red', lw=2, linestyle='--', label='Dummy Classifier (AUC = %0.2f)' % roc_auc_dummy)\n",
    "plt.plot([0, 1], [0, 1], color='gray', lw=1, linestyle='--')\n",
    "plt.ylabel('True Positive Rate')\n",
    "plt.title('Receiver Operating Characteristic (ROC) Curve')\n",
    "plt.legend(loc='lower right')\n",
    "plt.grid(True)\n",
    "plt.show()\n"
   ]
  },
  {
   "cell_type": "markdown",
   "metadata": {},
   "source": [
    "Decided to try and deal with the class imbalance using smote to see if it might improve the performance of the model all together.First converted the boolean columns to int booleans(1,0) using LabelEncoder and then dealt with the class imbalance in the columns['churn','international plan','voice mail plan'] using smote with random state of 42 and resampled the target variabley and X features"
   ]
  },
  {
   "cell_type": "markdown",
   "metadata": {},
   "source": [
    "Lets try and use smote for the class imbalance to see if maybe theres an improvement in the model"
   ]
  },
  {
   "cell_type": "code",
   "execution_count": 84,
   "metadata": {},
   "outputs": [],
   "source": [
    "bool_columns = X.select_dtypes(include='bool').columns\n",
    "\n",
    "label_encoder = LabelEncoder()\n",
    "for col in bool_columns:\n",
    "    X[col] = label_encoder.fit_transform(X[col])\n",
    "\n",
    "\n",
    "X_imbalanced = X[['international plan', 'voice mail plan']]\n",
    "y_imbalanced = y\n",
    "\n",
    "smote_features = SMOTE(sampling_strategy='auto', random_state=42)\n",
    "\n",
    "\n",
    "X_resampled_imbalanced, y_resampled_imbalanced = smote_features.fit_resample(X_imbalanced, y_imbalanced)\n",
    "\n",
    "X_resampled_features = pd.concat([X.drop(['international plan', 'voice mail plan'], axis=1), X_resampled_imbalanced], axis=1)\n",
    "\n",
    "smote_target = SMOTE(sampling_strategy='auto', random_state=42)\n",
    "\n",
    "X_resampled_target, y_resampled_target = smote_target.fit_resample(X, y)\n",
    "\n",
    "X_resampled_target = pd.DataFrame(X_resampled_target, columns=X.columns)\n",
    "y_resampled_target = pd.Series(y_resampled_target, name=y.name)"
   ]
  },
  {
   "cell_type": "markdown",
   "metadata": {},
   "source": [
    "Did a train test split with the new data and then did a grid search for the best hyper parameters that would give the most optimal f1 score as shown below"
   ]
  },
  {
   "cell_type": "code",
   "execution_count": 87,
   "metadata": {},
   "outputs": [
    {
     "name": "stdout",
     "output_type": "stream",
     "text": [
      "Fitting 5 folds for each of 12 candidates, totalling 60 fits\n",
      "Best Hyperparameters: {'C': 10, 'penalty': 'l2'}\n",
      "Weighted Average F1 Score: 0.9044586794025966 \n",
      " Difference with baseline model: 0.08445867940259666\n"
     ]
    }
   ],
   "source": [
    "X_train,X_test,y_train,y_test = train_test_split(X_resampled_target,y_resampled_target)\n",
    "param_grid = {\n",
    "    'C': [0.001, 0.01, 0.1, 1, 10, 100],\n",
    "    'penalty': ['l1', 'l2']\n",
    "}\n",
    "scorer = make_scorer(f1_score, average='weighted')\n",
    "grid_search = GridSearchCV(estimator=logreg, param_grid=param_grid, cv=5, scoring=scorer, verbose=1)\n",
    "grid_search.fit(X_train, y_train)\n",
    "best_params = grid_search.best_params_\n",
    "print(\"Best Hyperparameters:\", best_params)\n",
    "best_model = grid_search.best_estimator_\n",
    "y_pred = best_model.predict(X_test)\n",
    "weighted_avg_f1 = f1_score(y_test, y_pred, average='weighted')\n",
    "print(\"Weighted Average F1 Score:\", weighted_avg_f1,'\\n','Difference with baseline model:',weighted_avg_f1 - baseline_f1score)"
   ]
  },
  {
   "cell_type": "markdown",
   "metadata": {},
   "source": [
    "The weighted Average f1 score is 0.904 which is an improvement compared to our baseline mode and its by about 8%, a small amount but an improvement nonetheless"
   ]
  },
  {
   "cell_type": "markdown",
   "metadata": {},
   "source": [
    "Using the best hyper parameters found by grid search I fit the models and computed the predicted probabilites for logistic regression and dummy classifier.Then computed the roc curve and area for dummy classifier and log regression and then plotted the curve"
   ]
  },
  {
   "cell_type": "code",
   "execution_count": 89,
   "metadata": {},
   "outputs": [
    {
     "data": {
      "image/png": "[encoded data removed]",
      "text/plain": [
       "<Figure size 800x600 with 1 Axes>"
      ]
     },
     "metadata": {},
     "output_type": "display_data"
    }
   ],
   "source": [
    "logreg = LogisticRegression(**best_params)\n",
    "dummy = DummyClassifier(strategy='constant',constant=0)\n",
    "logreg.fit(X_train,y_train)\n",
    "dummy.fit(X_train, y_train)\n",
    "y_pred_prob_logreg = logreg.predict_proba(X_test)[:, 1]\n",
    "y_pred_prob_dummy = dummy.predict_proba(X_test)[:, 1]\n",
    "fpr_logreg, tpr_logreg, _ = roc_curve(y_test, y_pred_prob_logreg)\n",
    "roc_auc_logreg = auc(fpr_logreg, tpr_logreg)\n",
    "fpr_dummy, tpr_dummy, _ = roc_curve(y_test, y_pred_prob_dummy)\n",
    "roc_auc_dummy = auc(fpr_dummy, tpr_dummy)\n",
    "plt.figure(figsize=(8, 6))\n",
    "plt.plot(fpr_logreg, tpr_logreg, color='blue', lw=2, label='Logistic Regression (AUC = %0.2f)' % roc_auc_logreg)\n",
    "plt.plot(fpr_dummy, tpr_dummy, color='red', lw=2, linestyle='--', label='Dummy Classifier (AUC = %0.2f)' % roc_auc_dummy)\n",
    "plt.plot([0, 1], [0, 1], color='gray', lw=1, linestyle='--')\n",
    "plt.xlabel('False Positive Rate')\n",
    "plt.ylabel('True Positive Rate')\n",
    "plt.title('Receiver Operating Characteristic (ROC) Curve')\n",
    "plt.legend(loc='lower right')\n",
    "plt.grid(True)\n",
    "plt.show()\n"
   ]
  },
  {
   "cell_type": "markdown",
   "metadata": {},
   "source": [
    "The AUC of our model has increased a significant amount from our baseline model having 0.83 AUC to the new model having AUC of 0.96"
   ]
  },
  {
   "cell_type": "markdown",
   "metadata": {},
   "source": []
  }
 ],
 "metadata": {
  "kernelspec": {
   "display_name": "Python 3",
   "language": "python",
   "name": "python3"
  },
  "language_info": {
   "codemirror_mode": {
    "name": "ipython",
    "version": 3
   },
   "file_extension": ".py",
   "mimetype": "text/x-python",
   "name": "python",
   "nbconvert_exporter": "python",
   "pygments_lexer": "ipython3",
   "version": "3.11.3"
  }
 },
 "nbformat": 4,
 "nbformat_minor": 2
}
